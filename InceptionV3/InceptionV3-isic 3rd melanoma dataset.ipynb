{
 "cells": [
  {
   "cell_type": "code",
   "execution_count": null,
   "metadata": {
    "executionInfo": {
     "elapsed": 4668,
     "status": "ok",
     "timestamp": 1711208526439,
     "user": {
      "displayName": "Ashura Mahi",
      "userId": "07370140662895110481"
     },
     "user_tz": 420
    },
    "id": "X489PCUfL8Lj"
   },
   "outputs": [],
   "source": [
    "import tensorflow as tf\n",
    "from tensorflow.keras.preprocessing.image import ImageDataGenerator\n",
    "from tensorflow.keras.applications.inception_v3 import InceptionV3\n",
    "from tensorflow.keras.models import Model\n",
    "from tensorflow.keras.layers import Dense, GlobalAveragePooling2D\n",
    "from tensorflow.keras.optimizers import Adam\n",
    "from sklearn.metrics import classification_report\n",
    "from sklearn.metrics import confusion_matrix\n",
    "import matplotlib.pyplot as plt\n",
    "import seaborn as sns\n"
   ]
  },
  {
   "cell_type": "markdown",
   "metadata": {
    "id": "IPYVn-eSMCUa"
   },
   "source": [
    "load preprocess"
   ]
  },
  {
   "cell_type": "code",
   "execution_count": null,
   "metadata": {
    "colab": {
     "base_uri": "https://localhost:8080/"
    },
    "executionInfo": {
     "elapsed": 12,
     "status": "ok",
     "timestamp": 1711208603212,
     "user": {
      "displayName": "Ashura Mahi",
      "userId": "07370140662895110481"
     },
     "user_tz": 420
    },
    "id": "L4kEzBTuMKB1",
    "outputId": "b3332e52-50d7-493c-a773-5e1fad348604"
   },
   "outputs": [],
   "source": [
    "# Load and preprocess the data\n",
    "data_generator = ImageDataGenerator(\n",
    "    rescale=1./255,\n",
    "    rotation_range=20,\n",
    "    width_shift_range=0.2,\n",
    "    height_shift_range=0.2,\n",
    "    horizontal_flip=True,\n",
    "    validation_split=0.2\n",
    ")\n",
    "\n",
    "data_dir = '/content/drive/MyDrive/mel3rddatset'\n",
    "batch_size = 32\n",
    "\n",
    "train_generator = data_generator.flow_from_directory(\n",
    "    data_dir,\n",
    "    target_size=(229, 229),\n",
    "    batch_size=batch_size,\n",
    "    class_mode='categorical',\n",
    "    subset='training'\n",
    ")\n",
    "\n",
    "validation_generator = data_generator.flow_from_directory(\n",
    "    data_dir,\n",
    "    target_size=(229, 229),\n",
    "    batch_size=batch_size,\n",
    "    class_mode='categorical',\n",
    "    subset='validation'\n",
    ")\n"
   ]
  },
  {
   "cell_type": "markdown",
   "metadata": {
    "id": "mKfQYkJpMdR6"
   },
   "source": [
    "load pretrained model"
   ]
  },
  {
   "cell_type": "code",
   "execution_count": null,
   "metadata": {
    "colab": {
     "base_uri": "https://localhost:8080/"
    },
    "executionInfo": {
     "elapsed": 3947,
     "status": "ok",
     "timestamp": 1711208626668,
     "user": {
      "displayName": "Ashura Mahi",
      "userId": "07370140662895110481"
     },
     "user_tz": 420
    },
    "id": "K0XNadvuMgSo",
    "outputId": "56a0afbe-d5e5-4fab-c8ca-8ec8aa2977bc"
   },
   "outputs": [
    {
     "name": "stdout",
     "output_type": "stream",
     "text": [
      "Downloading data from https://storage.googleapis.com/tensorflow/keras-applications/inception_v3/inception_v3_weights_tf_dim_ordering_tf_kernels_notop.h5\n",
      "87910968/87910968 [==============================] - 0s 0us/step\n"
     ]
    }
   ],
   "source": [
    "# Load pre-trained model (GoogleNet)\n",
    "base_model = InceptionV3(weights='imagenet', include_top=False)"
   ]
  },
  {
   "cell_type": "code",
   "execution_count": null,
   "metadata": {
    "executionInfo": {
     "elapsed": 7,
     "status": "ok",
     "timestamp": 1711208633512,
     "user": {
      "displayName": "Ashura Mahi",
      "userId": "07370140662895110481"
     },
     "user_tz": 420
    },
    "id": "ewnyHGLhMxj2"
   },
   "outputs": [],
   "source": [
    "# Add a global spatial average pooling layer\n",
    "x = base_model.output\n",
    "x = GlobalAveragePooling2D()(x)\n",
    "\n",
    "# Add a fully connected layer\n",
    "x = Dense(1024, activation='relu')(x)\n",
    "\n",
    "# Add an output layer with 2 units for binary classification\n",
    "predictions = Dense(2, activation='softmax')(x)\n",
    "\n",
    "# Combine the base model and the custom layers\n",
    "model = Model(inputs=base_model.input, outputs=predictions)\n",
    "# Fine-tune the model\n",
    "for layer in base_model.layers:\n",
    "    layer.trainable = False\n",
    "\n",
    "model.compile(optimizer=Adam(), loss='categorical_crossentropy', metrics=['accuracy'])\n"
   ]
  },
  {
   "cell_type": "markdown",
   "metadata": {
    "id": "4TergRiVNCgM"
   },
   "source": [
    "Training"
   ]
  },
  {
   "cell_type": "code",
   "execution_count": null,
   "metadata": {
    "colab": {
     "base_uri": "https://localhost:8080/"
    },
    "executionInfo": {
     "elapsed": 22916963,
     "status": "ok",
     "timestamp": 1711231563030,
     "user": {
      "displayName": "Ashura Mahi",
      "userId": "07370140662895110481"
     },
     "user_tz": 420
    },
    "id": "hjLDOfa8NDqL",
    "outputId": "60f8b59e-4769-4870-bf09-72e0a7a55f8f"
   },
   "outputs": [],
   "source": [
    "# Train the model\n",
    "\n",
    "history = model.fit(\n",
    "    train_generator,\n",
    "    validation_data=validation_generator,\n",
    "    epochs=35\n",
    ")"
   ]
  },
  {
   "cell_type": "code",
   "execution_count": null,
   "metadata": {
    "colab": {
     "base_uri": "https://localhost:8080/",
     "height": 927
    },
    "executionInfo": {
     "elapsed": 2055,
     "status": "ok",
     "timestamp": 1711231572968,
     "user": {
      "displayName": "Ashura Mahi",
      "userId": "07370140662895110481"
     },
     "user_tz": 420
    },
    "id": "r2ynwERmNI_P",
    "outputId": "b2fc88b1-654b-4946-e6cb-afbc8a0cd686"
   },
   "outputs": [],
   "source": [
    "# plot acc loss matrics\n",
    "\n",
    "plt.plot(history.history['accuracy'])\n",
    "plt.plot(history.history['val_accuracy'])\n",
    "plt.title('Model accuracy')\n",
    "plt.ylabel('Accuracy')\n",
    "plt.xlabel('Epoch')\n",
    "plt.legend(['Training', 'Validation'], loc='lower right')\n",
    "plt.show()\n",
    "\n",
    "plt.plot(history.history['loss'])\n",
    "plt.plot(history.history['val_loss'])\n",
    "plt.title('Model loss')\n",
    "plt.ylabel('Loss')\n",
    "plt.xlabel('Epoch')\n",
    "plt.legend(['Training', 'Validation'], loc='upper right')\n",
    "plt.show()\n"
   ]
  },
  {
   "cell_type": "markdown",
   "metadata": {
    "id": "3YAs1pCrNL4z"
   },
   "source": [
    "save model"
   ]
  },
  {
   "cell_type": "code",
   "execution_count": null,
   "metadata": {
    "colab": {
     "base_uri": "https://localhost:8080/"
    },
    "executionInfo": {
     "elapsed": 2118,
     "status": "ok",
     "timestamp": 1711231583590,
     "user": {
      "displayName": "Ashura Mahi",
      "userId": "07370140662895110481"
     },
     "user_tz": 420
    },
    "id": "ron4u4bMNOLC",
    "outputId": "5cbb92c3-c6aa-41cf-e182-73f40c8b0521"
   },
   "outputs": [],
   "source": [
    "#Save the model\n",
    "model.save('/content/drive/MyDrive/Data Mela/gn3rdmeladata_model.h5')\n"
   ]
  },
  {
   "cell_type": "markdown",
   "metadata": {
    "id": "bZTuMJWsNZf5"
   },
   "source": [
    "testing"
   ]
  },
  {
   "cell_type": "code",
   "execution_count": null,
   "metadata": {
    "colab": {
     "base_uri": "https://localhost:8080/"
    },
    "executionInfo": {
     "elapsed": 470,
     "status": "ok",
     "timestamp": 1711231586899,
     "user": {
      "displayName": "Ashura Mahi",
      "userId": "07370140662895110481"
     },
     "user_tz": 420
    },
    "id": "NiaUktgANcF8",
    "outputId": "7bcfa747-10b3-4a8f-ee50-72e2f96c1680"
   },
   "outputs": [],
   "source": [
    "# Testing model on test data\n",
    "test_generator = data_generator.flow_from_directory(\n",
    "    data_dir,\n",
    "    target_size=(224, 224),\n",
    "    batch_size=batch_size,\n",
    "    class_mode='categorical',\n",
    "    shuffle=False,\n",
    "    subset='validation'\n",
    ")\n",
    "\n",
    "# evaluate model on test set\n",
    "test_loss, test_acc = model.evaluate(test_generator)\n",
    "print('Test loss:', test_loss)\n",
    "print('Test accuracy:', test_acc)\n",
    "\n",
    "# Predict using the model\n",
    "y_pred = model.predict(test_generator)\n",
    "\n",
    "# Convert predictions to class labels\n",
    "y_pred_classes = tf.argmax(y_pred, axis=1)\n",
    "\n",
    "# Get true labels\n",
    "y_true = test_generator.classes\n"
   ]
  },
  {
   "cell_type": "markdown",
   "metadata": {
    "id": "tj49SmlLNoyE"
   },
   "source": [
    "performance evaluatuion"
   ]
  },
  {
   "cell_type": "code",
   "execution_count": null,
   "metadata": {
    "colab": {
     "base_uri": "https://localhost:8080/"
    },
    "executionInfo": {
     "elapsed": 490,
     "status": "ok",
     "timestamp": 1711232053855,
     "user": {
      "displayName": "Ashura Mahi",
      "userId": "07370140662895110481"
     },
     "user_tz": 420
    },
    "id": "czePJ0dKNtMe",
    "outputId": "60f3fc83-bfbc-4c5e-d57d-c118bb82e8ca"
   },
   "outputs": [],
   "source": [
    "\n",
    "report = classification_report(y_true, y_pred_classes, target_names=['benign', 'malignant'])\n",
    "print(report)\n"
   ]
  },
  {
   "cell_type": "code",
   "execution_count": null,
   "metadata": {
    "colab": {
     "base_uri": "https://localhost:8080/",
     "height": 564
    },
    "executionInfo": {
     "elapsed": 1462,
     "status": "ok",
     "timestamp": 1711232099382,
     "user": {
      "displayName": "Ashura Mahi",
      "userId": "07370140662895110481"
     },
     "user_tz": 420
    },
    "id": "NnDWiSPaSYpH",
    "outputId": "e08fd340-f7d0-4209-dce0-fff1f8e26986"
   },
   "outputs": [],
   "source": [
    "\n",
    "# Calculate confusion matrix\n",
    "cm = confusion_matrix(y_true, y_pred_classes)\n",
    "\n",
    "# Plot the confusion matrix\n",
    "plt.figure(figsize=(8, 6))\n",
    "sns.heatmap(cm, annot=True, fmt='d', cmap='Blues',\n",
    "            xticklabels=['Benign (0)', 'Malignant (1)'],\n",
    "            yticklabels=['Benign (0)', 'Malignant (1)'])\n",
    "plt.xlabel('Predicted')\n",
    "plt.ylabel('Actual')\n",
    "plt.title('Confusion Matrix')\n",
    "plt.show()\n"
   ]
  },
  {
   "cell_type": "code",
   "execution_count": null,
   "metadata": {
    "colab": {
     "base_uri": "https://localhost:8080/",
     "height": 564
    },
    "executionInfo": {
     "elapsed": 855,
     "status": "ok",
     "timestamp": 1711232117581,
     "user": {
      "displayName": "Ashura Mahi",
      "userId": "07370140662895110481"
     },
     "user_tz": 420
    },
    "id": "wTqce_q7ZfMi",
    "outputId": "d2205e1d-9c5e-4ebb-8b41-ad09e7036490"
   },
   "outputs": [],
   "source": [
    "# plot AUC\n",
    "\n",
    "import numpy as np\n",
    "from sklearn.metrics import roc_curve, roc_auc_score\n",
    "\n",
    "fpr, tpr, thresholds = roc_curve(y_true, y_pred_classes)\n",
    "auc = roc_auc_score(y_true, y_pred_classes)\n",
    "\n",
    "plt.figure(figsize=(8, 6))\n",
    "plt.plot(fpr, tpr, label='ROC curve (AUC = %0.2f)' % auc)\n",
    "plt.plot([0, 1], [0, 1], 'k--')\n",
    "plt.xlim([0.0, 1.0])\n",
    "plt.ylim([0.0, 1.05])\n",
    "plt.xlabel('False Positive Rate')\n",
    "plt.ylabel('True Positive Rate')\n",
    "plt.title('Receiver Operating Characteristic (ROC) Curve')\n",
    "plt.legend(loc='lower left')\n",
    "plt.show()\n"
   ]
  }
 ],
 "metadata": {
  "colab": {
   "provenance": []
  },
  "kernelspec": {
   "display_name": "Python 3",
   "name": "python3"
  },
  "language_info": {
   "name": "python"
  }
 },
 "nbformat": 4,
 "nbformat_minor": 0
}
